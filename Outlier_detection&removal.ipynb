{
 "cells": [
  {
   "cell_type": "code",
   "execution_count": 1,
   "id": "2f83d71b-8069-40a0-8235-d51f8e31e9e2",
   "metadata": {},
   "outputs": [],
   "source": [
    "import pandas as pd\n",
    "import numpy as np\n",
    "import seaborn as sns\n",
    "import matplotlib.pyplot as plt"
   ]
  },
  {
   "cell_type": "code",
   "execution_count": 2,
   "id": "f31173f0-9119-443e-8048-f08517e90671",
   "metadata": {},
   "outputs": [],
   "source": [
    "from sklearn.datasets import load_diabetes"
   ]
  },
  {
   "cell_type": "code",
   "execution_count": 3,
   "id": "feb0ee40-4d79-4e83-9424-4405ec29b0d5",
   "metadata": {},
   "outputs": [],
   "source": [
    "diabetes = load_diabetes()"
   ]
  },
  {
   "cell_type": "code",
   "execution_count": 4,
   "id": "300845e2-8146-40e2-8199-fc775851fef1",
   "metadata": {},
   "outputs": [],
   "source": [
    "df = pd.DataFrame(data = diabetes.data,columns = diabetes.feature_names)"
   ]
  },
  {
   "cell_type": "code",
   "execution_count": 5,
   "id": "37c5ead0-3964-4557-a768-e8c57a65ff68",
   "metadata": {},
   "outputs": [
    {
     "data": {
      "text/html": [
       "<div>\n",
       "<style scoped>\n",
       "    .dataframe tbody tr th:only-of-type {\n",
       "        vertical-align: middle;\n",
       "    }\n",
       "\n",
       "    .dataframe tbody tr th {\n",
       "        vertical-align: top;\n",
       "    }\n",
       "\n",
       "    .dataframe thead th {\n",
       "        text-align: right;\n",
       "    }\n",
       "</style>\n",
       "<table border=\"1\" class=\"dataframe\">\n",
       "  <thead>\n",
       "    <tr style=\"text-align: right;\">\n",
       "      <th></th>\n",
       "      <th>age</th>\n",
       "      <th>sex</th>\n",
       "      <th>bmi</th>\n",
       "      <th>bp</th>\n",
       "      <th>s1</th>\n",
       "      <th>s2</th>\n",
       "      <th>s3</th>\n",
       "      <th>s4</th>\n",
       "      <th>s5</th>\n",
       "      <th>s6</th>\n",
       "    </tr>\n",
       "  </thead>\n",
       "  <tbody>\n",
       "    <tr>\n",
       "      <th>0</th>\n",
       "      <td>0.038076</td>\n",
       "      <td>0.050680</td>\n",
       "      <td>0.061696</td>\n",
       "      <td>0.021872</td>\n",
       "      <td>-0.044223</td>\n",
       "      <td>-0.034821</td>\n",
       "      <td>-0.043401</td>\n",
       "      <td>-0.002592</td>\n",
       "      <td>0.019907</td>\n",
       "      <td>-0.017646</td>\n",
       "    </tr>\n",
       "    <tr>\n",
       "      <th>1</th>\n",
       "      <td>-0.001882</td>\n",
       "      <td>-0.044642</td>\n",
       "      <td>-0.051474</td>\n",
       "      <td>-0.026328</td>\n",
       "      <td>-0.008449</td>\n",
       "      <td>-0.019163</td>\n",
       "      <td>0.074412</td>\n",
       "      <td>-0.039493</td>\n",
       "      <td>-0.068332</td>\n",
       "      <td>-0.092204</td>\n",
       "    </tr>\n",
       "    <tr>\n",
       "      <th>2</th>\n",
       "      <td>0.085299</td>\n",
       "      <td>0.050680</td>\n",
       "      <td>0.044451</td>\n",
       "      <td>-0.005670</td>\n",
       "      <td>-0.045599</td>\n",
       "      <td>-0.034194</td>\n",
       "      <td>-0.032356</td>\n",
       "      <td>-0.002592</td>\n",
       "      <td>0.002861</td>\n",
       "      <td>-0.025930</td>\n",
       "    </tr>\n",
       "    <tr>\n",
       "      <th>3</th>\n",
       "      <td>-0.089063</td>\n",
       "      <td>-0.044642</td>\n",
       "      <td>-0.011595</td>\n",
       "      <td>-0.036656</td>\n",
       "      <td>0.012191</td>\n",
       "      <td>0.024991</td>\n",
       "      <td>-0.036038</td>\n",
       "      <td>0.034309</td>\n",
       "      <td>0.022688</td>\n",
       "      <td>-0.009362</td>\n",
       "    </tr>\n",
       "    <tr>\n",
       "      <th>4</th>\n",
       "      <td>0.005383</td>\n",
       "      <td>-0.044642</td>\n",
       "      <td>-0.036385</td>\n",
       "      <td>0.021872</td>\n",
       "      <td>0.003935</td>\n",
       "      <td>0.015596</td>\n",
       "      <td>0.008142</td>\n",
       "      <td>-0.002592</td>\n",
       "      <td>-0.031988</td>\n",
       "      <td>-0.046641</td>\n",
       "    </tr>\n",
       "    <tr>\n",
       "      <th>...</th>\n",
       "      <td>...</td>\n",
       "      <td>...</td>\n",
       "      <td>...</td>\n",
       "      <td>...</td>\n",
       "      <td>...</td>\n",
       "      <td>...</td>\n",
       "      <td>...</td>\n",
       "      <td>...</td>\n",
       "      <td>...</td>\n",
       "      <td>...</td>\n",
       "    </tr>\n",
       "    <tr>\n",
       "      <th>437</th>\n",
       "      <td>0.041708</td>\n",
       "      <td>0.050680</td>\n",
       "      <td>0.019662</td>\n",
       "      <td>0.059744</td>\n",
       "      <td>-0.005697</td>\n",
       "      <td>-0.002566</td>\n",
       "      <td>-0.028674</td>\n",
       "      <td>-0.002592</td>\n",
       "      <td>0.031193</td>\n",
       "      <td>0.007207</td>\n",
       "    </tr>\n",
       "    <tr>\n",
       "      <th>438</th>\n",
       "      <td>-0.005515</td>\n",
       "      <td>0.050680</td>\n",
       "      <td>-0.015906</td>\n",
       "      <td>-0.067642</td>\n",
       "      <td>0.049341</td>\n",
       "      <td>0.079165</td>\n",
       "      <td>-0.028674</td>\n",
       "      <td>0.034309</td>\n",
       "      <td>-0.018114</td>\n",
       "      <td>0.044485</td>\n",
       "    </tr>\n",
       "    <tr>\n",
       "      <th>439</th>\n",
       "      <td>0.041708</td>\n",
       "      <td>0.050680</td>\n",
       "      <td>-0.015906</td>\n",
       "      <td>0.017293</td>\n",
       "      <td>-0.037344</td>\n",
       "      <td>-0.013840</td>\n",
       "      <td>-0.024993</td>\n",
       "      <td>-0.011080</td>\n",
       "      <td>-0.046883</td>\n",
       "      <td>0.015491</td>\n",
       "    </tr>\n",
       "    <tr>\n",
       "      <th>440</th>\n",
       "      <td>-0.045472</td>\n",
       "      <td>-0.044642</td>\n",
       "      <td>0.039062</td>\n",
       "      <td>0.001215</td>\n",
       "      <td>0.016318</td>\n",
       "      <td>0.015283</td>\n",
       "      <td>-0.028674</td>\n",
       "      <td>0.026560</td>\n",
       "      <td>0.044529</td>\n",
       "      <td>-0.025930</td>\n",
       "    </tr>\n",
       "    <tr>\n",
       "      <th>441</th>\n",
       "      <td>-0.045472</td>\n",
       "      <td>-0.044642</td>\n",
       "      <td>-0.073030</td>\n",
       "      <td>-0.081413</td>\n",
       "      <td>0.083740</td>\n",
       "      <td>0.027809</td>\n",
       "      <td>0.173816</td>\n",
       "      <td>-0.039493</td>\n",
       "      <td>-0.004222</td>\n",
       "      <td>0.003064</td>\n",
       "    </tr>\n",
       "  </tbody>\n",
       "</table>\n",
       "<p>442 rows × 10 columns</p>\n",
       "</div>"
      ],
      "text/plain": [
       "          age       sex       bmi        bp        s1        s2        s3  \\\n",
       "0    0.038076  0.050680  0.061696  0.021872 -0.044223 -0.034821 -0.043401   \n",
       "1   -0.001882 -0.044642 -0.051474 -0.026328 -0.008449 -0.019163  0.074412   \n",
       "2    0.085299  0.050680  0.044451 -0.005670 -0.045599 -0.034194 -0.032356   \n",
       "3   -0.089063 -0.044642 -0.011595 -0.036656  0.012191  0.024991 -0.036038   \n",
       "4    0.005383 -0.044642 -0.036385  0.021872  0.003935  0.015596  0.008142   \n",
       "..        ...       ...       ...       ...       ...       ...       ...   \n",
       "437  0.041708  0.050680  0.019662  0.059744 -0.005697 -0.002566 -0.028674   \n",
       "438 -0.005515  0.050680 -0.015906 -0.067642  0.049341  0.079165 -0.028674   \n",
       "439  0.041708  0.050680 -0.015906  0.017293 -0.037344 -0.013840 -0.024993   \n",
       "440 -0.045472 -0.044642  0.039062  0.001215  0.016318  0.015283 -0.028674   \n",
       "441 -0.045472 -0.044642 -0.073030 -0.081413  0.083740  0.027809  0.173816   \n",
       "\n",
       "           s4        s5        s6  \n",
       "0   -0.002592  0.019907 -0.017646  \n",
       "1   -0.039493 -0.068332 -0.092204  \n",
       "2   -0.002592  0.002861 -0.025930  \n",
       "3    0.034309  0.022688 -0.009362  \n",
       "4   -0.002592 -0.031988 -0.046641  \n",
       "..        ...       ...       ...  \n",
       "437 -0.002592  0.031193  0.007207  \n",
       "438  0.034309 -0.018114  0.044485  \n",
       "439 -0.011080 -0.046883  0.015491  \n",
       "440  0.026560  0.044529 -0.025930  \n",
       "441 -0.039493 -0.004222  0.003064  \n",
       "\n",
       "[442 rows x 10 columns]"
      ]
     },
     "execution_count": 5,
     "metadata": {},
     "output_type": "execute_result"
    }
   ],
   "source": [
    "df"
   ]
  },
  {
   "cell_type": "code",
   "execution_count": 26,
   "id": "a67644ee-30ca-434d-a4a5-b6ae68236357",
   "metadata": {},
   "outputs": [
    {
     "data": {
      "text/plain": [
       "<Axes: ylabel='s3'>"
      ]
     },
     "execution_count": 26,
     "metadata": {},
     "output_type": "execute_result"
    },
    {
     "data": {
      "image/png": "[encoded data removed]",
      "text/plain": [
       "<Figure size 640x480 with 1 Axes>"
      ]
     },
     "metadata": {},
     "output_type": "display_data"
    }
   ],
   "source": [
    "sns.boxplot(df['s3'])"
   ]
  },
  {
   "cell_type": "code",
   "execution_count": 6,
   "id": "f078fa73-f031-48c6-a24e-4d8d099ea6dc",
   "metadata": {},
   "outputs": [],
   "source": [
    "ul = df['s3'].mean() + 3*df['s3'].std()"
   ]
  },
  {
   "cell_type": "code",
   "execution_count": 7,
   "id": "ad3f4e98-562d-494b-9b84-38922eef40f7",
   "metadata": {},
   "outputs": [
    {
     "data": {
      "text/plain": [
       "0.1428571428571428"
      ]
     },
     "execution_count": 7,
     "metadata": {},
     "output_type": "execute_result"
    }
   ],
   "source": [
    "ul"
   ]
  },
  {
   "cell_type": "code",
   "execution_count": 10,
   "id": "a34c8440-ff63-4f6a-bcf7-e35f7d2a82cf",
   "metadata": {},
   "outputs": [],
   "source": [
    "ll = df['s3'].mean() - 3*df['s3'].std()"
   ]
  },
  {
   "cell_type": "code",
   "execution_count": 11,
   "id": "647826bd-5598-452e-babf-cc622f66dd33",
   "metadata": {},
   "outputs": [
    {
     "data": {
      "text/plain": [
       "-0.1428571428571428"
      ]
     },
     "execution_count": 11,
     "metadata": {},
     "output_type": "execute_result"
    }
   ],
   "source": [
    "ll"
   ]
  },
  {
   "cell_type": "code",
   "execution_count": 12,
   "id": "f639b34d-7b36-4c52-8945-970c5794e7c8",
   "metadata": {},
   "outputs": [
    {
     "data": {
      "text/html": [
       "<div>\n",
       "<style scoped>\n",
       "    .dataframe tbody tr th:only-of-type {\n",
       "        vertical-align: middle;\n",
       "    }\n",
       "\n",
       "    .dataframe tbody tr th {\n",
       "        vertical-align: top;\n",
       "    }\n",
       "\n",
       "    .dataframe thead th {\n",
       "        text-align: right;\n",
       "    }\n",
       "</style>\n",
       "<table border=\"1\" class=\"dataframe\">\n",
       "  <thead>\n",
       "    <tr style=\"text-align: right;\">\n",
       "      <th></th>\n",
       "      <th>age</th>\n",
       "      <th>sex</th>\n",
       "      <th>bmi</th>\n",
       "      <th>bp</th>\n",
       "      <th>s1</th>\n",
       "      <th>s2</th>\n",
       "      <th>s3</th>\n",
       "      <th>s4</th>\n",
       "      <th>s5</th>\n",
       "      <th>s6</th>\n",
       "    </tr>\n",
       "  </thead>\n",
       "  <tbody>\n",
       "    <tr>\n",
       "      <th>58</th>\n",
       "      <td>0.041708</td>\n",
       "      <td>-0.044642</td>\n",
       "      <td>-0.064408</td>\n",
       "      <td>0.035644</td>\n",
       "      <td>0.012191</td>\n",
       "      <td>-0.057994</td>\n",
       "      <td>0.181179</td>\n",
       "      <td>-0.076395</td>\n",
       "      <td>-0.000612</td>\n",
       "      <td>-0.050783</td>\n",
       "    </tr>\n",
       "    <tr>\n",
       "      <th>260</th>\n",
       "      <td>0.041708</td>\n",
       "      <td>-0.044642</td>\n",
       "      <td>-0.008362</td>\n",
       "      <td>-0.057313</td>\n",
       "      <td>0.008063</td>\n",
       "      <td>-0.031376</td>\n",
       "      <td>0.151726</td>\n",
       "      <td>-0.076395</td>\n",
       "      <td>-0.080237</td>\n",
       "      <td>-0.017646</td>\n",
       "    </tr>\n",
       "    <tr>\n",
       "      <th>261</th>\n",
       "      <td>0.048974</td>\n",
       "      <td>-0.044642</td>\n",
       "      <td>-0.041774</td>\n",
       "      <td>0.104501</td>\n",
       "      <td>0.035582</td>\n",
       "      <td>-0.025739</td>\n",
       "      <td>0.177497</td>\n",
       "      <td>-0.076395</td>\n",
       "      <td>-0.012909</td>\n",
       "      <td>0.015491</td>\n",
       "    </tr>\n",
       "    <tr>\n",
       "      <th>269</th>\n",
       "      <td>0.009016</td>\n",
       "      <td>-0.044642</td>\n",
       "      <td>-0.032073</td>\n",
       "      <td>-0.026328</td>\n",
       "      <td>0.042462</td>\n",
       "      <td>-0.010395</td>\n",
       "      <td>0.159089</td>\n",
       "      <td>-0.076395</td>\n",
       "      <td>-0.011897</td>\n",
       "      <td>-0.038357</td>\n",
       "    </tr>\n",
       "    <tr>\n",
       "      <th>441</th>\n",
       "      <td>-0.045472</td>\n",
       "      <td>-0.044642</td>\n",
       "      <td>-0.073030</td>\n",
       "      <td>-0.081413</td>\n",
       "      <td>0.083740</td>\n",
       "      <td>0.027809</td>\n",
       "      <td>0.173816</td>\n",
       "      <td>-0.039493</td>\n",
       "      <td>-0.004222</td>\n",
       "      <td>0.003064</td>\n",
       "    </tr>\n",
       "  </tbody>\n",
       "</table>\n",
       "</div>"
      ],
      "text/plain": [
       "          age       sex       bmi        bp        s1        s2        s3  \\\n",
       "58   0.041708 -0.044642 -0.064408  0.035644  0.012191 -0.057994  0.181179   \n",
       "260  0.041708 -0.044642 -0.008362 -0.057313  0.008063 -0.031376  0.151726   \n",
       "261  0.048974 -0.044642 -0.041774  0.104501  0.035582 -0.025739  0.177497   \n",
       "269  0.009016 -0.044642 -0.032073 -0.026328  0.042462 -0.010395  0.159089   \n",
       "441 -0.045472 -0.044642 -0.073030 -0.081413  0.083740  0.027809  0.173816   \n",
       "\n",
       "           s4        s5        s6  \n",
       "58  -0.076395 -0.000612 -0.050783  \n",
       "260 -0.076395 -0.080237 -0.017646  \n",
       "261 -0.076395 -0.012909  0.015491  \n",
       "269 -0.076395 -0.011897 -0.038357  \n",
       "441 -0.039493 -0.004222  0.003064  "
      ]
     },
     "execution_count": 12,
     "metadata": {},
     "output_type": "execute_result"
    }
   ],
   "source": [
    "df.loc[(df['s3']>ul) | (df['s3']<ll)]"
   ]
  },
  {
   "cell_type": "markdown",
   "id": "220a4f47-5f9a-4ef6-a71e-64ef35ba3901",
   "metadata": {},
   "source": [
    "# trimming"
   ]
  },
  {
   "cell_type": "code",
   "execution_count": 21,
   "id": "f0c21b8f-3c33-4c21-975f-516db23116f8",
   "metadata": {},
   "outputs": [],
   "source": [
    "new_df  = df.loc[(df['s3']<ul) & (df['s3']>ll)]"
   ]
  },
  {
   "cell_type": "code",
   "execution_count": 24,
   "id": "1f73a329-f342-4a23-922f-8bc0334855c9",
   "metadata": {},
   "outputs": [
    {
     "name": "stdout",
     "output_type": "stream",
     "text": [
      "before removing the outliers 442\n",
      "after removing the outliers 437\n",
      "outliers of particular columns  =  5\n"
     ]
    }
   ],
   "source": [
    "print(\"before removing the outliers\",len(df))\n",
    "print(\"after removing the outliers\",len(new_df))\n",
    "print(\"outliers of particular columns  = \",len(df)-len(new_df))"
   ]
  },
  {
   "cell_type": "code",
   "execution_count": 25,
   "id": "c067bbf8-cdb5-4470-a7fa-5668b576f1c4",
   "metadata": {},
   "outputs": [
    {
     "data": {
      "text/plain": [
       "<Axes: ylabel='s3'>"
      ]
     },
     "execution_count": 25,
     "metadata": {},
     "output_type": "execute_result"
    },
    {
     "data": {
      "image/png": "[encoded data removed]",
      "text/plain": [
       "<Figure size 640x480 with 1 Axes>"
      ]
     },
     "metadata": {},
     "output_type": "display_data"
    }
   ],
   "source": [
    "sns.boxplot(new_df['s3'])"
   ]
  },
  {
   "cell_type": "markdown",
   "id": "a605769b-f146-4f56-a4d5-57c6ebbb8c04",
   "metadata": {},
   "source": [
    "**cappiing = change the outlier values to upper or lower limit values**"
   ]
  },
  {
   "cell_type": "code",
   "execution_count": 27,
   "id": "a638f0c9-ce4d-42bf-b575-8222e25b02c7",
   "metadata": {},
   "outputs": [],
   "source": [
    "new_df =df.copy()"
   ]
  },
  {
   "cell_type": "code",
   "execution_count": 28,
   "id": "8e18c69d-e2d2-4cd0-8b90-41a738576e99",
   "metadata": {},
   "outputs": [],
   "source": [
    "new_df.loc[new_df['s3']>ul,'s3'] = ul\n",
    "new_df.loc[new_df['s3']<ll,'s3'] = ll"
   ]
  },
  {
   "cell_type": "code",
   "execution_count": 29,
   "id": "325822e1-d4a4-4edb-b1f7-c3843fe64113",
   "metadata": {},
   "outputs": [
    {
     "data": {
      "text/plain": [
       "<Axes: ylabel='s3'>"
      ]
     },
     "execution_count": 29,
     "metadata": {},
     "output_type": "execute_result"
    },
    {
     "data": {
      "image/png": "[encoded data removed]",
      "text/plain": [
       "<Figure size 640x480 with 1 Axes>"
      ]
     },
     "metadata": {},
     "output_type": "display_data"
    }
   ],
   "source": [
    "sns.boxplot(new_df['s3'])"
   ]
  },
  {
   "cell_type": "code",
   "execution_count": 30,
   "id": "6882611f-aac0-4db3-9b18-d9fe63e0086b",
   "metadata": {},
   "outputs": [
    {
     "data": {
      "text/plain": [
       "442"
      ]
     },
     "execution_count": 30,
     "metadata": {},
     "output_type": "execute_result"
    }
   ],
   "source": [
    "len(new_df)"
   ]
  },
  {
   "cell_type": "markdown",
   "id": "f46dd6f6-484a-4887-9f0e-e937f00cfdcd",
   "metadata": {},
   "source": [
    "# IQR METHOD"
   ]
  },
  {
   "cell_type": "code",
   "execution_count": 31,
   "id": "f5517023-dec1-4f86-b3e0-6ba0a55e58f8",
   "metadata": {},
   "outputs": [],
   "source": [
    "q1 = df['s3'].quantile(0.25)\n",
    "q3 = df['s3'].quantile(0.75)\n",
    "iqr = q3-q1"
   ]
  },
  {
   "cell_type": "code",
   "execution_count": 32,
   "id": "fae6a7ca-5f5a-4a32-b9cf-1d420704f367",
   "metadata": {},
   "outputs": [
    {
     "name": "stdout",
     "output_type": "stream",
     "text": [
      "-0.035117160592829294\n",
      "0.02931150097869218\n",
      "0.06442866157152147\n"
     ]
    }
   ],
   "source": [
    "print(q1)\n",
    "print(q3)\n",
    "print(iqr)"
   ]
  },
  {
   "cell_type": "code",
   "execution_count": 33,
   "id": "4b602ed4-ff3a-4708-8029-e71ae0071cf9",
   "metadata": {},
   "outputs": [
    {
     "data": {
      "text/plain": [
       "(-0.1317601529501115, 0.1259544933359744)"
      ]
     },
     "execution_count": 33,
     "metadata": {},
     "output_type": "execute_result"
    }
   ],
   "source": [
    "upper_limit = q3 +(1.5*iqr)\n",
    "lower_limit = q1 -(1.5*iqr)\n",
    "lower_limit,upper_limit"
   ]
  },
  {
   "cell_type": "code",
   "execution_count": 34,
   "id": "6586db11-1fda-4b0f-9aa3-226a6c104fc0",
   "metadata": {},
   "outputs": [
    {
     "data": {
      "text/plain": [
       "<Axes: ylabel='s3'>"
      ]
     },
     "execution_count": 34,
     "metadata": {},
     "output_type": "execute_result"
    },
    {
     "data": {
      "image/png": "[encoded data removed]",
      "text/plain": [
       "<Figure size 640x480 with 1 Axes>"
      ]
     },
     "metadata": {},
     "output_type": "display_data"
    }
   ],
   "source": [
    "sns.boxplot(df['s3'])"
   ]
  },
  {
   "cell_type": "code",
   "execution_count": 35,
   "id": "bfe352a2-7bbf-452e-ab5c-7c6e1d01ae9d",
   "metadata": {},
   "outputs": [
    {
     "data": {
      "text/html": [
       "<div>\n",
       "<style scoped>\n",
       "    .dataframe tbody tr th:only-of-type {\n",
       "        vertical-align: middle;\n",
       "    }\n",
       "\n",
       "    .dataframe tbody tr th {\n",
       "        vertical-align: top;\n",
       "    }\n",
       "\n",
       "    .dataframe thead th {\n",
       "        text-align: right;\n",
       "    }\n",
       "</style>\n",
       "<table border=\"1\" class=\"dataframe\">\n",
       "  <thead>\n",
       "    <tr style=\"text-align: right;\">\n",
       "      <th></th>\n",
       "      <th>age</th>\n",
       "      <th>sex</th>\n",
       "      <th>bmi</th>\n",
       "      <th>bp</th>\n",
       "      <th>s1</th>\n",
       "      <th>s2</th>\n",
       "      <th>s3</th>\n",
       "      <th>s4</th>\n",
       "      <th>s5</th>\n",
       "      <th>s6</th>\n",
       "    </tr>\n",
       "  </thead>\n",
       "  <tbody>\n",
       "    <tr>\n",
       "      <th>58</th>\n",
       "      <td>0.041708</td>\n",
       "      <td>-0.044642</td>\n",
       "      <td>-0.064408</td>\n",
       "      <td>0.035644</td>\n",
       "      <td>0.012191</td>\n",
       "      <td>-0.057994</td>\n",
       "      <td>0.181179</td>\n",
       "      <td>-0.076395</td>\n",
       "      <td>-0.000612</td>\n",
       "      <td>-0.050783</td>\n",
       "    </tr>\n",
       "    <tr>\n",
       "      <th>260</th>\n",
       "      <td>0.041708</td>\n",
       "      <td>-0.044642</td>\n",
       "      <td>-0.008362</td>\n",
       "      <td>-0.057313</td>\n",
       "      <td>0.008063</td>\n",
       "      <td>-0.031376</td>\n",
       "      <td>0.151726</td>\n",
       "      <td>-0.076395</td>\n",
       "      <td>-0.080237</td>\n",
       "      <td>-0.017646</td>\n",
       "    </tr>\n",
       "    <tr>\n",
       "      <th>261</th>\n",
       "      <td>0.048974</td>\n",
       "      <td>-0.044642</td>\n",
       "      <td>-0.041774</td>\n",
       "      <td>0.104501</td>\n",
       "      <td>0.035582</td>\n",
       "      <td>-0.025739</td>\n",
       "      <td>0.177497</td>\n",
       "      <td>-0.076395</td>\n",
       "      <td>-0.012909</td>\n",
       "      <td>0.015491</td>\n",
       "    </tr>\n",
       "    <tr>\n",
       "      <th>269</th>\n",
       "      <td>0.009016</td>\n",
       "      <td>-0.044642</td>\n",
       "      <td>-0.032073</td>\n",
       "      <td>-0.026328</td>\n",
       "      <td>0.042462</td>\n",
       "      <td>-0.010395</td>\n",
       "      <td>0.159089</td>\n",
       "      <td>-0.076395</td>\n",
       "      <td>-0.011897</td>\n",
       "      <td>-0.038357</td>\n",
       "    </tr>\n",
       "    <tr>\n",
       "      <th>441</th>\n",
       "      <td>-0.045472</td>\n",
       "      <td>-0.044642</td>\n",
       "      <td>-0.073030</td>\n",
       "      <td>-0.081413</td>\n",
       "      <td>0.083740</td>\n",
       "      <td>0.027809</td>\n",
       "      <td>0.173816</td>\n",
       "      <td>-0.039493</td>\n",
       "      <td>-0.004222</td>\n",
       "      <td>0.003064</td>\n",
       "    </tr>\n",
       "  </tbody>\n",
       "</table>\n",
       "</div>"
      ],
      "text/plain": [
       "          age       sex       bmi        bp        s1        s2        s3  \\\n",
       "58   0.041708 -0.044642 -0.064408  0.035644  0.012191 -0.057994  0.181179   \n",
       "260  0.041708 -0.044642 -0.008362 -0.057313  0.008063 -0.031376  0.151726   \n",
       "261  0.048974 -0.044642 -0.041774  0.104501  0.035582 -0.025739  0.177497   \n",
       "269  0.009016 -0.044642 -0.032073 -0.026328  0.042462 -0.010395  0.159089   \n",
       "441 -0.045472 -0.044642 -0.073030 -0.081413  0.083740  0.027809  0.173816   \n",
       "\n",
       "           s4        s5        s6  \n",
       "58  -0.076395 -0.000612 -0.050783  \n",
       "260 -0.076395 -0.080237 -0.017646  \n",
       "261 -0.076395 -0.012909  0.015491  \n",
       "269 -0.076395 -0.011897 -0.038357  \n",
       "441 -0.039493 -0.004222  0.003064  "
      ]
     },
     "execution_count": 35,
     "metadata": {},
     "output_type": "execute_result"
    }
   ],
   "source": [
    "df.loc[(df['s3']>ul) | (df['s3']<ll)]"
   ]
  },
  {
   "cell_type": "code",
   "execution_count": 36,
   "id": "7800a10c-a12a-477b-b9eb-ea19bdbdea01",
   "metadata": {},
   "outputs": [
    {
     "name": "stdout",
     "output_type": "stream",
     "text": [
      "before removing the outliers 442\n",
      "after removing the outliers 437\n",
      "outliers of particular columns  =  5\n"
     ]
    }
   ],
   "source": [
    "new_df  = df.loc[(df['s3']<ul) & (df['s3']>ll)]\n",
    "print(\"before removing the outliers\",len(df))\n",
    "print(\"after removing the outliers\",len(new_df))\n",
    "print(\"outliers of particular columns  = \",len(df)-len(new_df))"
   ]
  },
  {
   "cell_type": "code",
   "execution_count": 38,
   "id": "9fe55ada-269c-42f9-91e2-8551d08cba47",
   "metadata": {},
   "outputs": [
    {
     "data": {
      "text/plain": [
       "<Axes: ylabel='s3'>"
      ]
     },
     "execution_count": 38,
     "metadata": {},
     "output_type": "execute_result"
    },
    {
     "data": {
      "image/png": "[encoded data removed]",
      "text/plain": [
       "<Figure size 640x480 with 1 Axes>"
      ]
     },
     "metadata": {},
     "output_type": "display_data"
    }
   ],
   "source": [
    "sns.boxplot(new_df['s3'])"
   ]
  },
  {
   "cell_type": "code",
   "execution_count": 39,
   "id": "b805e990-ed1e-46ac-82d5-a44d69872a6d",
   "metadata": {},
   "outputs": [],
   "source": [
    "new_df = df.copy()"
   ]
  },
  {
   "cell_type": "code",
   "execution_count": 40,
   "id": "5abf996f-5fe3-4f3d-ad86-21455b5c1fd9",
   "metadata": {},
   "outputs": [],
   "source": [
    "new_df.loc[(new_df['s3']>upper_limit),'s3'] = upper_limit\n",
    "new_df.loc[(new_df['s3']<lower_limit),'s3'] = lower_limit\n"
   ]
  },
  {
   "cell_type": "code",
   "execution_count": 41,
   "id": "a5a743b9-2da6-4c1e-94b9-f96461bb627e",
   "metadata": {},
   "outputs": [
    {
     "data": {
      "text/plain": [
       "<Axes: ylabel='s3'>"
      ]
     },
     "execution_count": 41,
     "metadata": {},
     "output_type": "execute_result"
    },
    {
     "data": {
      "image/png": "[encoded data removed]",
      "text/plain": [
       "<Figure size 640x480 with 1 Axes>"
      ]
     },
     "metadata": {},
     "output_type": "display_data"
    }
   ],
   "source": [
    "sns.boxplot(new_df['s3'])"
   ]
  },
  {
   "cell_type": "code",
   "execution_count": null,
   "id": "36621747-23a0-4988-bc80-345e0126cfb5",
   "metadata": {},
   "outputs": [],
   "source": []
  }
 ],
 "metadata": {
  "kernelspec": {
   "display_name": "Python 3 (ipykernel)",
   "language": "python",
   "name": "python3"
  },
  "language_info": {
   "codemirror_mode": {
    "name": "ipython",
    "version": 3
   },
   "file_extension": ".py",
   "mimetype": "text/x-python",
   "name": "python",
   "nbconvert_exporter": "python",
   "pygments_lexer": "ipython3",
   "version": "3.12.0"
  }
 },
 "nbformat": 4,
 "nbformat_minor": 5
}
